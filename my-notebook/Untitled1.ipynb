{
 "cells": [
  {
   "cell_type": "code",
   "execution_count": 5,
   "metadata": {},
   "outputs": [],
   "source": [
    "import pymysql"
   ]
  },
  {
   "cell_type": "code",
   "execution_count": 6,
   "metadata": {},
   "outputs": [],
   "source": [
    "connection = pymysql.connect(\n",
    "             host = \"localhost\",\n",
    "             port = 33066,\n",
    "             user = \"root\",\n",
    "             passwd = \"password\",\n",
    "             database =\"test_stuart_data\")"
   ]
  },
  {
   "cell_type": "code",
   "execution_count": 7,
   "metadata": {},
   "outputs": [],
   "source": [
    "import pandas as pd"
   ]
  },
  {
   "cell_type": "code",
   "execution_count": 8,
   "metadata": {},
   "outputs": [
    {
     "data": {
      "text/plain": [
       "<bound method DataFrame.all of       distance  duration  ascent                date         country  \\\n",
       "0      74255.3   18095.0   343.0 2017-05-22 09:16:51  United Kingdom   \n",
       "1      95617.1   22370.0   286.0 2017-05-23 09:40:25  United Kingdom   \n",
       "2      56293.4   14428.0   306.0 2017-05-24 08:08:06  United Kingdom   \n",
       "3      73183.6   21849.0   695.0 2017-05-25 09:32:34  United Kingdom   \n",
       "4      36615.8   10217.0   209.0 2017-05-26 17:12:25  United Kingdom   \n",
       "...        ...       ...     ...                 ...             ...   \n",
       "1446   39949.0   10157.0   388.0 2017-05-17 17:25:45  United Kingdom   \n",
       "1447   33056.4    8284.0   181.0 2017-05-18 09:25:35  United Kingdom   \n",
       "1448   20834.4    5928.0    62.0 2017-05-19 11:20:04  United Kingdom   \n",
       "1449   35011.9    8516.0   205.0 2017-05-19 17:28:42  United Kingdom   \n",
       "1450   37739.8    9046.0   423.0 2017-05-20 10:13:23  United Kingdom   \n",
       "\n",
       "      average_speed  max_speed  personal_bests  kilojoules          id  \n",
       "0             4.104       21.2               4      1831.1  1000614691  \n",
       "1             4.274       19.9               5      2039.8  1002500349  \n",
       "2             3.902       13.1               9      1247.1  1003554900  \n",
       "3             3.350       19.0               2      1782.4  1005650014  \n",
       "4             3.584       15.7               2       823.9  1007103288  \n",
       "...             ...        ...             ...         ...         ...  \n",
       "1446          3.933       16.1               4       872.5   993232223  \n",
       "1447          3.990       13.0               0       755.6   996002681  \n",
       "1448          3.515       14.2               1       446.3   996002781  \n",
       "1449          4.111       15.0               0       805.9   996003019  \n",
       "1450          4.172       13.4               1       832.2   997625157  \n",
       "\n",
       "[1451 rows x 10 columns]>"
      ]
     },
     "execution_count": 8,
     "metadata": {},
     "output_type": "execute_result"
    }
   ],
   "source": [
    "df= pd.read_sql_query(\"SELECT * FROM rides\",connection)\n",
    "df.all"
   ]
  },
  {
   "cell_type": "code",
   "execution_count": 10,
   "metadata": {},
   "outputs": [],
   "source": [
    "import matplotlib.pyplot as plt"
   ]
  },
  {
   "cell_type": "code",
   "execution_count": 13,
   "metadata": {},
   "outputs": [
    {
     "data": {
      "image/png": "[encoded data removed]",
      "text/plain": [
       "<Figure size 432x288 with 1 Axes>"
      ]
     },
     "metadata": {
      "needs_background": "light"
     },
     "output_type": "display_data"
    }
   ],
   "source": [
    "x = df['duration'].values\n",
    "y = df['distance'].values\n",
    "plt.xlabel('Duration / s')\n",
    "plt.ylabel('Distance / m')\n",
    "plt.title('Distance vs time graph')\n",
    "plt.scatter(x,y,marker ='o')\n",
    "plt.show()"
   ]
  }
 ],
 "metadata": {
  "kernelspec": {
   "display_name": "Python 3",
   "language": "python",
   "name": "python3"
  },
  "language_info": {
   "codemirror_mode": {
    "name": "ipython",
    "version": 3
   },
   "file_extension": ".py",
   "mimetype": "text/x-python",
   "name": "python",
   "nbconvert_exporter": "python",
   "pygments_lexer": "ipython3",
   "version": "3.8.3"
  }
 },
 "nbformat": 4,
 "nbformat_minor": 4
}
